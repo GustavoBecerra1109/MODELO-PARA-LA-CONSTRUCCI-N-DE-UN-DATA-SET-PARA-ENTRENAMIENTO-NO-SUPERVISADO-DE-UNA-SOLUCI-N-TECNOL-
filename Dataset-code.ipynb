{
 "cells": [
  {
   "cell_type": "code",
   "execution_count": null,
   "metadata": {},
   "outputs": [],
   "source": [
    "#Just for replace parameters in a csv file\n",
    "from os import sep\n",
    "import pandas as pd\n",
    "import numpy as np\n",
    "\n",
    "df = pd.read_csv('C:/Users/Elizabeth/Desktop/Data set de planetas.csv', delimiter=',')  #To read csv files\n",
    "df.Galaxia= df.Galaxia.replace({\"Sistema Solar\": \"Via Lactea\"}) #Only for replace parameters\n",
    "\n",
    "df.to_csv('C:/Users/Elizabeth/Desktop/Planetas.csv', sep=',') #To save the data in the CSV file\n",
    "print(df)"
   ]
  },
  {
   "cell_type": "code",
   "execution_count": 1,
   "metadata": {},
   "outputs": [
    {
     "name": "stdout",
     "output_type": "stream",
     "text": [
      "Complete\n"
     ]
    }
   ],
   "source": [
    "#Create a new csv file\n",
    "import csv\n",
    "\n",
    "planets = [[\"Planet\", \"Galaxy\"],[\"Tierra\", \"Via Lactea\"], [\"Jupiter\", \"Via Lactea\"]]\n",
    "\n",
    "myFile = open('C:/Users/Elizabeth/Desktop/Planets.csv', 'w')\n",
    "with myFile:\n",
    "    wr = csv.writer(myFile)\n",
    "    wr.writerows(planets)\n",
    "print(\"Complete\")"
   ]
  }
 ],
 "metadata": {
  "kernelspec": {
   "display_name": "Python 3.10.6 64-bit",
   "language": "python",
   "name": "python3"
  },
  "language_info": {
   "codemirror_mode": {
    "name": "ipython",
    "version": 3
   },
   "file_extension": ".py",
   "mimetype": "text/x-python",
   "name": "python",
   "nbconvert_exporter": "python",
   "pygments_lexer": "ipython3",
   "version": "3.10.6"
  },
  "orig_nbformat": 4,
  "vscode": {
   "interpreter": {
    "hash": "4ebbef23af1c2cf9d7bc8110071cbe6893c227685f39210cd23ab24f64da6999"
   }
  }
 },
 "nbformat": 4,
 "nbformat_minor": 2
}
